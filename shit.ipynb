{
 "cells": [
  {
   "cell_type": "code",
   "execution_count": null,
   "id": "51c44af0",
   "metadata": {},
   "outputs": [],
   "source": [
    "BEGIN PROGRAM.\n",
    "import spss\n",
    "import spssdata\n",
    "\n",
    "def load_data():\n",
    "    \"\"\"Load data from SPSS into a Python list and convert it to wide format.\"\"\"\n",
    "    dataset = spssdata.Spssdata()\n",
    "    data = []\n",
    "    for row in dataset:\n",
    "        data.append([row[0], row[1], row[2]])  # Assuming columns A, B, and values (index 0, 1, 2)\n",
    "    dataset.close()\n",
    "    \n",
    "    # Convert long format data to wide format\n",
    "    wide_table, row_labels, col_labels = long_to_wide(data)\n",
    "    return wide_table, row_labels, col_labels\n",
    "\n",
    "def long_to_wide(data):\n",
    "    \"\"\"Convert long format data to wide format.\"\"\"\n",
    "    # Step 1: Get all unique row and column labels\n",
    "    row_labels = sorted(set(entry[0] for entry in data))  # Sort row labels numerically or lexicographically\n",
    "    col_labels = sorted(set(entry[1] for entry in data))\n",
    "\n",
    "    # Step 2: Create lookup dictionary for fast access\n",
    "    lookup = {(row, col): val for row, col, val in data}\n",
    "\n",
    "    # Step 3: Build wide-format list of lists\n",
    "    wide_table = []\n",
    "    for row in row_labels:\n",
    "        row_data = []\n",
    "        for col in col_labels:\n",
    "            value = lookup.get((row, col), None)\n",
    "            row_data.append(value)\n",
    "        wide_table.append(row_data)\n",
    "    \n",
    "    return wide_table, row_labels, col_labels\n",
    "\n",
    "def compute_missing_value(data, missing_row, missing_col):\n",
    "    \"\"\"Compute the missing value using the formula.\"\"\"\n",
    "    \n",
    "    # Count the total number of rows\n",
    "    r = len(data)\n",
    "    print(\"Total rows (r):\", r)    \n",
    "    \n",
    "    # Count the total number of columns\n",
    "    c = len(data[0]) if data else 0\n",
    "    print(\"Total columns (c):\", c)\n",
    "        \n",
    "    # Compute row and column totals (R and C), and grand total (G)\n",
    "    R = sum(data[missing_row][j] for j in range(len(data[0])) if data[missing_row][j] is not None)\n",
    "    print(\"R sum = \", R)\n",
    "    \n",
    "    C = sum(data[i][missing_col] for i in range(len(data)) if data[i][missing_col] is not None)\n",
    "    print(\"C sum = \", C)\n",
    "    \n",
    "    G = sum(sum(value for value in data[i] if value is not None) for i in range(len(data)))  # Grand total, ignoring None\n",
    "    print(\"G sum = \", G)\n",
    "    \n",
    "    # Compute the missing value using the formula\n",
    "    if (r - 1) * (c - 1) != 0:  # Avoid division by zero\n",
    "        x_hat = (r * R + c * C - G) / ((r - 1) * (c - 1))\n",
    "        print(\"x_hat = \", x_hat)\n",
    "    else:\n",
    "        x_hat = None  # Return None if division by zero occurs\n",
    "    \n",
    "    return x_hat\n",
    " \n",
    "def main():\n",
    "    \n",
    "    # Load the data and convert it to wide format\n",
    "    data, row_labels, col_labels = load_data()\n",
    "    print(\"Wide Format Data: \")\n",
    "    print(data)\n",
    "    \n",
    "    # Find the missing value position if exists\n",
    "    missing_row, missing_col = find_missing_value(data)\n",
    "    \n",
    "    # Make sure to check first if there is a missing value or no0\n",
    "    if missing_row is None:\n",
    "        print(\"No missing values are found.\")\n",
    "        return\n",
    "     \n",
    "    print(\"Missing Row: \", missing_row , \" Missing Column: \", missing_col)\n",
    "    \n",
    "    # Compute the missing value\n",
    "    estimated_value = compute_missing_value(data, missing_row, missing_col)\n",
    "    \n",
    "    if estimated_value is not None: \n",
    "        print(\"The estimated value = \", estimated_value)\n",
    "    else:\n",
    "        print(\"Unable to compute the missing value, boo hoo\")\n",
    "        \n",
    "main()\n",
    "END PROGRAM.\n"
   ]
  },
  {
   "cell_type": "code",
   "execution_count": 1,
   "id": "066d5fd4",
   "metadata": {},
   "outputs": [],
   "source": [
    "import attention"
   ]
  },
  {
   "cell_type": "code",
   "execution_count": 2,
   "id": "7e6c6dad",
   "metadata": {},
   "outputs": [
    {
     "ename": "ImportError",
     "evalue": "cannot import name 'SelfAttention' from 'attention' (c:\\Users\\amr28\\AppData\\Local\\Programs\\Python\\Python311\\Lib\\site-packages\\attention\\__init__.py)",
     "output_type": "error",
     "traceback": [
      "\u001b[31m---------------------------------------------------------------------------\u001b[39m",
      "\u001b[31mImportError\u001b[39m                               Traceback (most recent call last)",
      "\u001b[36mCell\u001b[39m\u001b[36m \u001b[39m\u001b[32mIn[2]\u001b[39m\u001b[32m, line 1\u001b[39m\n\u001b[32m----> \u001b[39m\u001b[32m1\u001b[39m \u001b[38;5;28;01mfrom\u001b[39;00m\u001b[38;5;250m \u001b[39m\u001b[34;01mattention\u001b[39;00m\u001b[38;5;250m \u001b[39m\u001b[38;5;28;01mimport\u001b[39;00m SelfAttention\n",
      "\u001b[31mImportError\u001b[39m: cannot import name 'SelfAttention' from 'attention' (c:\\Users\\amr28\\AppData\\Local\\Programs\\Python\\Python311\\Lib\\site-packages\\attention\\__init__.py)"
     ]
    }
   ],
   "source": [
    "from attention import SelfAttention"
   ]
  },
  {
   "cell_type": "code",
   "execution_count": null,
   "id": "811361ef",
   "metadata": {},
   "outputs": [],
   "source": []
  }
 ],
 "metadata": {
  "kernelspec": {
   "display_name": "Python 3",
   "language": "python",
   "name": "python3"
  },
  "language_info": {
   "codemirror_mode": {
    "name": "ipython",
    "version": 3
   },
   "file_extension": ".py",
   "mimetype": "text/x-python",
   "name": "python",
   "nbconvert_exporter": "python",
   "pygments_lexer": "ipython3",
   "version": "3.11.4"
  }
 },
 "nbformat": 4,
 "nbformat_minor": 5
}
